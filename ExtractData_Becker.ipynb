{
 "cells": [
  {
   "cell_type": "markdown",
   "metadata": {},
   "source": [
    "# Extract Data from Becker's table"
   ]
  },
  {
   "cell_type": "code",
   "execution_count": 2,
   "metadata": {},
   "outputs": [],
   "source": [
    "from numpy import genfromtxt, savetxt, where\n",
    "from sys import exit\n",
    "import numpy as np\n",
    "import itertools"
   ]
  },
  {
   "cell_type": "code",
   "execution_count": 3,
   "metadata": {},
   "outputs": [],
   "source": [
    "fname= 'EOS_becker.txt'\n",
    "outname= 'EOS_plot_Bck.txt'"
   ]
  },
  {
   "cell_type": "code",
   "execution_count": 4,
   "metadata": {},
   "outputs": [
    {
     "name": "stdout",
     "output_type": "stream",
     "text": [
      "['Rho' 'T' 'P' 'U']\n"
     ]
    }
   ],
   "source": [
    "header1 = genfromtxt(fname, max_rows=1, dtype= 'str')\n",
    "print(header1)"
   ]
  },
  {
   "cell_type": "code",
   "execution_count": 5,
   "metadata": {},
   "outputs": [
    {
     "name": "stdout",
     "output_type": "stream",
     "text": [
      "Done. [1, 0, 2]\n"
     ]
    }
   ],
   "source": [
    "names= [ 'T', 'Rho', 'P']\n",
    "num= []\n",
    "for n in names:\n",
    "    \n",
    "    try:\n",
    "        num.append(where(header1==n)[0][0])\n",
    "    except ValueError:\n",
    "        exit(\"The given name %s did not match any entry in header1. Valid values are %s\" %(n, header1))\n",
    "print(\"Done.\", num)"
   ]
  },
  {
   "cell_type": "code",
   "execution_count": 14,
   "metadata": {},
   "outputs": [
    {
     "name": "stdout",
     "output_type": "stream",
     "text": [
      "[[ 1.77815125 -7.52287875  1.87069184]\n",
      " [ 1.77815125 -7.39794001  1.99563046]\n",
      " [ 1.77815125 -7.30103     2.09254029]\n",
      " ...\n",
      " [ 7.          3.14612804 18.51500651]\n",
      " [ 7.          3.20411998 18.5901321 ]\n",
      " [ 7.          3.25527251 18.65738977]]\n"
     ]
    },
    {
     "data": {
      "text/plain": [
       "106"
      ]
     },
     "execution_count": 14,
     "metadata": {},
     "output_type": "execute_result"
    }
   ],
   "source": [
    "data =  genfromtxt(fname, skip_header=1, usecols=num)\n",
    "#data= data[112::]\n",
    "\n",
    "data[:,0]=np.log10(data[:,0])\n",
    "data[:,1]=np.log10(data[:,1])\n",
    "data[:,2]=np.log10(data[:,2])\n",
    "\n",
    "data[:,2] += 10\n",
    "#values=[-7., -6., -5., -4., -3., -2., -1., 0., 1., 2., 3.]\n",
    "#data=np.array([])\n",
    "#for n in range(len(data_brut[:,1])):\n",
    "#    for v in values: \n",
    "#        if data_brut[n,1]==v:\n",
    "#            #print(data_brut[n,1])\n",
    "#            data=np.append(data,data_brut[n,:])\n",
    "#a=len(data)//3\n",
    "#data.shape=(a,3)\n",
    "print(data)\n",
    "form = \" %1.6f  %+1.6f  %+1.6f\"\n",
    "\n",
    "hdr = \"# Log T   Log Rho   Log P\"\n",
    "savetxt(outname, data, fmt=form, delimiter='  ', header=hdr, comments='')\n",
    "len(np.unique(data[:,1]))"
   ]
  },
  {
   "cell_type": "code",
   "execution_count": null,
   "metadata": {},
   "outputs": [],
   "source": []
  }
 ],
 "metadata": {
  "kernelspec": {
   "display_name": "Python 3",
   "language": "python",
   "name": "python3"
  },
  "language_info": {
   "codemirror_mode": {
    "name": "ipython",
    "version": 3
   },
   "file_extension": ".py",
   "mimetype": "text/x-python",
   "name": "python",
   "nbconvert_exporter": "python",
   "pygments_lexer": "ipython3",
   "version": "3.7.3"
  }
 },
 "nbformat": 4,
 "nbformat_minor": 2
}
