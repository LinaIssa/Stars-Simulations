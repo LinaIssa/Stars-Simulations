{
 "cells": [
  {
   "cell_type": "markdown",
   "metadata": {},
   "source": [
    "# Extract Data from Chabrier tables "
   ]
  },
  {
   "cell_type": "code",
   "execution_count": 1,
   "metadata": {},
   "outputs": [],
   "source": [
    "from numpy import genfromtxt, savetxt, where\n",
    "from sys import exit\n",
    "import numpy as np\n",
    "import itertools"
   ]
  },
  {
   "cell_type": "code",
   "execution_count": 2,
   "metadata": {},
   "outputs": [],
   "source": [
    "fname = \"TABLEEOS_HHE_Trho_Y0.275_v1\"\n",
    "outname = \"EOS_plot_Ch\""
   ]
  },
  {
   "cell_type": "code",
   "execution_count": 3,
   "metadata": {},
   "outputs": [
    {
     "name": "stdout",
     "output_type": "stream",
     "text": [
      "['logT' 'logP' 'logrho' 'log' 'U' '[MJ/kg]' 'log' 'S' '[MJ/kg/K]'\n",
      " 'dlrho/dlT_P' 'dlrho/dlP_T' 'dlS/dlT_P' 'dlS/dlP_T' 'grad_ad']\n"
     ]
    }
   ],
   "source": [
    "header1 = genfromtxt(fname, max_rows=1, dtype= 'str' )\n",
    "print(header1)"
   ]
  },
  {
   "cell_type": "code",
   "execution_count": 4,
   "metadata": {},
   "outputs": [
    {
     "name": "stdout",
     "output_type": "stream",
     "text": [
      "Done. [0, 2, 1]\n"
     ]
    }
   ],
   "source": [
    "names= [ 'logT', 'logrho', 'logP']\n",
    "num= []\n",
    "for n in names:\n",
    "    \n",
    "    try:\n",
    "        num.append(where(header1==n)[0][0])\n",
    "    except ValueError:\n",
    "        exit(\"The given name %s did not match any entry in header1. Valid values are %s\" %(n, header1))\n",
    "print(\"Done.\", num)"
   ]
  },
  {
   "cell_type": "code",
   "execution_count": 5,
   "metadata": {},
   "outputs": [
    {
     "name": "stdout",
     "output_type": "stream",
     "text": [
      "[ 1.70146  1.75151  1.80151 ... 22.6778  22.7499  22.8206 ]\n"
     ]
    }
   ],
   "source": [
    "data =  genfromtxt(fname, skip_header=1, usecols=num)\n",
    "data = data[843::]\n",
    "data[:,2] += 10\n",
    "print(data[:,2])\n",
    "form = \" %1.6f          %+1.6f  %+1.6f\"\n",
    "\n",
    "hdr = \"# Log T   Log Rho   Log P\"\n",
    "\n",
    "savetxt(outname, data, fmt=form, delimiter='  ', header=hdr, comments='')"
   ]
  },
  {
   "cell_type": "code",
   "execution_count": null,
   "metadata": {},
   "outputs": [],
   "source": []
  },
  {
   "cell_type": "code",
   "execution_count": null,
   "metadata": {},
   "outputs": [],
   "source": []
  }
 ],
 "metadata": {
  "kernelspec": {
   "display_name": "Python 3",
   "language": "python",
   "name": "python3"
  },
  "language_info": {
   "codemirror_mode": {
    "name": "ipython",
    "version": 3
   },
   "file_extension": ".py",
   "mimetype": "text/x-python",
   "name": "python",
   "nbconvert_exporter": "python",
   "pygments_lexer": "ipython3",
   "version": "3.7.3"
  }
 },
 "nbformat": 4,
 "nbformat_minor": 2
}
