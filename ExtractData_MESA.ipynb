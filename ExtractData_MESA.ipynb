{
 "cells": [
  {
   "cell_type": "code",
   "execution_count": 1,
   "metadata": {},
   "outputs": [],
   "source": [
    "from numpy import genfromtxt, savetxt, where\n",
    "from sys import exit\n",
    "import numpy as np\n",
    "import itertools"
   ]
  },
  {
   "cell_type": "code",
   "execution_count": 8,
   "metadata": {},
   "outputs": [],
   "source": [
    "fname = \"history_2.data\"\n",
    "outname = \"luminosity_002.text\""
   ]
  },
  {
   "cell_type": "code",
   "execution_count": 12,
   "metadata": {},
   "outputs": [
    {
     "name": "stdout",
     "output_type": "stream",
     "text": [
      "[1 2 3 4 5 6 7] \n",
      "\n",
      " ['11554' '\"gfortran\"' '\"8.3.0\"' '\"x86_64-osx-10.12-10.14-2019'\n",
      " '\"20190703\"' '5.0000000000000000E+001' '1.0000000000000000E+003'] \n",
      "\n",
      " [  1   2   3   4   5   6   7   8   9  10  11  12  13  14  15  16  17  18\n",
      "  19  20  21  22  23  24  25  26  27  28  29  30  31  32  33  34  35  36\n",
      "  37  38  39  40  41  42  43  44  45  46  47  48  49  50  51  52  53  54\n",
      "  55  56  57  58  59  60  61  62  63  64  65  66  67  68  69  70  71  72\n",
      "  73  74  75  76  77  78  79  80  81  82  83  84  85  86  87  88  89  90\n",
      "  91  92  93  94  95  96  97  98  99 100 101 102 103 104 105 106 107 108\n",
      " 109 110 111 112 113 114 115 116 117 118 119 120 121 122 123 124 125 126\n",
      " 127 128 129 130 131 132 133 134 135 136 137 138 139 140 141 142 143 144\n",
      " 145 146 147 148 149 150 151 152 153 154 155 156 157 158 159 160 161 162\n",
      " 163 164 165 166 167 168 169 170 171 172 173 174 175 176 177 178 179 180\n",
      " 181 182 183 184 185 186 187 188 189 190 191 192 193 194 195 196 197 198\n",
      " 199 200 201 202 203 204 205 206 207 208 209 210 211 212 213 214 215 216\n",
      " 217 218 219 220 221 222 223 224 225 226 227 228 229 230 231 232 233 234\n",
      " 235 236 237 238 239 240 241 242 243 244 245 246 247 248 249 250 251 252\n",
      " 253 254 255 256 257 258 259 260 261 262 263 264 265 266 267 268 269 270\n",
      " 271 272 273 274 275 276 277 278 279 280 281 282 283 284 285 286 287 288\n",
      " 289 290 291 292 293 294 295 296 297 298 299 300 301 302 303 304 305 306\n",
      " 307 308 309 310 311 312 313 314 315 316 317 318 319 320 321 322 323] \n",
      "\n",
      " ['model_number' 'star_age' 'star_mass' 'log_abs_mdot' 'log_dt' 'num_zones'\n",
      " 'log_total_angular_momentum' 'log_rotational_mdot_boost'\n",
      " 'log_max_residual' 'log_residual_norm' 'num_newton_iterations'\n",
      " 'rel_E_err' 'log_rel_E_err' 'log_rel_run_E_err' 'conv_mx1_top'\n",
      " 'conv_mx1_bot' 'conv_mx2_top' 'conv_mx2_bot' 'mx1_top' 'mx1_bot'\n",
      " 'mx2_top' 'mx2_bot' 'epsnuc_M_1' 'epsnuc_M_2' 'epsnuc_M_3' 'epsnuc_M_4'\n",
      " 'epsnuc_M_5' 'epsnuc_M_6' 'epsnuc_M_7' 'epsnuc_M_8' 'he_core_mass'\n",
      " 'c_core_mass' 'o_core_mass' 'si_core_mass' 'fe_core_mass' 'kh_timescale'\n",
      " 'log_LH' 'log_LHe' 'log_L' 'log_Teff' 'log_R' 'log_g' 'surf_avg_j_rot'\n",
      " 'surf_avg_omega' 'surf_avg_omega_crit' 'surf_avg_omega_div_omega_crit'\n",
      " 'surf_avg_v_rot' 'surf_avg_v_crit' 'surf_avg_v_div_v_crit'\n",
      " 'surf_avg_Lrad_div_Ledd' 'log_center_T' 'log_center_Rho' 'log_center_P'\n",
      " 'center_omega' 'center_omega_div_omega_crit' 'center_ye' 'center_entropy'\n",
      " 'surface_he4' 'surface_c12' 'surface_n14' 'surface_o16' 'center_h1'\n",
      " 'center_he4' 'center_c12' 'center_n14' 'center_o16' 'center_ne20'\n",
      " 'center_si28' 'center_s32' 'center_ar36' 'center_ca40' 'center_fe54'\n",
      " 'center_fe56' 'center_ni56' 'center_cr56' 'log_average_h1'\n",
      " 'log_average_h2' 'log_average_he3' 'log_average_he4' 'log_average_li7'\n",
      " 'mix_type_1' 'mix_qtop_1' 'mix_type_2' 'mix_qtop_2' 'mix_type_3'\n",
      " 'mix_qtop_3' 'mix_type_4' 'mix_qtop_4' 'mix_type_5' 'mix_qtop_5'\n",
      " 'mix_type_6' 'mix_qtop_6' 'mix_type_7' 'mix_qtop_7' 'mix_type_8'\n",
      " 'mix_qtop_8' 'mix_type_9' 'mix_qtop_9' 'mix_type_10' 'mix_qtop_10'\n",
      " 'mix_type_11' 'mix_qtop_11' 'mix_type_12' 'mix_qtop_12' 'mix_type_13'\n",
      " 'mix_qtop_13' 'mix_type_14' 'mix_qtop_14' 'mix_type_15' 'mix_qtop_15'\n",
      " 'mix_type_16' 'mix_qtop_16' 'mix_type_17' 'mix_qtop_17' 'mix_type_18'\n",
      " 'mix_qtop_18' 'mix_type_19' 'mix_qtop_19' 'mix_type_20' 'mix_qtop_20'\n",
      " 'mix_type_21' 'mix_qtop_21' 'mix_type_22' 'mix_qtop_22' 'mix_type_23'\n",
      " 'mix_qtop_23' 'mix_type_24' 'mix_qtop_24' 'mix_type_25' 'mix_qtop_25'\n",
      " 'mix_type_26' 'mix_qtop_26' 'mix_type_27' 'mix_qtop_27' 'mix_type_28'\n",
      " 'mix_qtop_28' 'mix_type_29' 'mix_qtop_29' 'mix_type_30' 'mix_qtop_30'\n",
      " 'mix_type_31' 'mix_qtop_31' 'mix_type_32' 'mix_qtop_32' 'mix_type_33'\n",
      " 'mix_qtop_33' 'mix_type_34' 'mix_qtop_34' 'mix_type_35' 'mix_qtop_35'\n",
      " 'mix_type_36' 'mix_qtop_36' 'mix_type_37' 'mix_qtop_37' 'mix_type_38'\n",
      " 'mix_qtop_38' 'mix_type_39' 'mix_qtop_39' 'mix_type_40' 'mix_qtop_40'\n",
      " 'burn_type_1' 'burn_qtop_1' 'burn_type_2' 'burn_qtop_2' 'burn_type_3'\n",
      " 'burn_qtop_3' 'burn_type_4' 'burn_qtop_4' 'burn_type_5' 'burn_qtop_5'\n",
      " 'burn_type_6' 'burn_qtop_6' 'burn_type_7' 'burn_qtop_7' 'burn_type_8'\n",
      " 'burn_qtop_8' 'burn_type_9' 'burn_qtop_9' 'burn_type_10' 'burn_qtop_10'\n",
      " 'burn_type_11' 'burn_qtop_11' 'burn_type_12' 'burn_qtop_12'\n",
      " 'burn_type_13' 'burn_qtop_13' 'burn_type_14' 'burn_qtop_14'\n",
      " 'burn_type_15' 'burn_qtop_15' 'burn_type_16' 'burn_qtop_16'\n",
      " 'burn_type_17' 'burn_qtop_17' 'burn_type_18' 'burn_qtop_18'\n",
      " 'burn_type_19' 'burn_qtop_19' 'burn_type_20' 'burn_qtop_20'\n",
      " 'burn_type_21' 'burn_qtop_21' 'burn_type_22' 'burn_qtop_22'\n",
      " 'burn_type_23' 'burn_qtop_23' 'burn_type_24' 'burn_qtop_24'\n",
      " 'burn_type_25' 'burn_qtop_25' 'burn_type_26' 'burn_qtop_26'\n",
      " 'burn_type_27' 'burn_qtop_27' 'burn_type_28' 'burn_qtop_28'\n",
      " 'burn_type_29' 'burn_qtop_29' 'burn_type_30' 'burn_qtop_30'\n",
      " 'burn_type_31' 'burn_qtop_31' 'burn_type_32' 'burn_qtop_32'\n",
      " 'burn_type_33' 'burn_qtop_33' 'burn_type_34' 'burn_qtop_34'\n",
      " 'burn_type_35' 'burn_qtop_35' 'burn_type_36' 'burn_qtop_36'\n",
      " 'burn_type_37' 'burn_qtop_37' 'burn_type_38' 'burn_qtop_38'\n",
      " 'burn_type_39' 'burn_qtop_39' 'burn_type_40' 'burn_qtop_40'\n",
      " 'burn_type_41' 'burn_qtop_41' 'burn_type_42' 'burn_qtop_42'\n",
      " 'burn_type_43' 'burn_qtop_43' 'burn_type_44' 'burn_qtop_44'\n",
      " 'burn_type_45' 'burn_qtop_45' 'burn_type_46' 'burn_qtop_46'\n",
      " 'burn_type_47' 'burn_qtop_47' 'burn_type_48' 'burn_qtop_48'\n",
      " 'burn_type_49' 'burn_qtop_49' 'burn_type_50' 'burn_qtop_50'\n",
      " 'burn_type_51' 'burn_qtop_51' 'burn_type_52' 'burn_qtop_52'\n",
      " 'burn_type_53' 'burn_qtop_53' 'burn_type_54' 'burn_qtop_54'\n",
      " 'burn_type_55' 'burn_qtop_55' 'burn_type_56' 'burn_qtop_56'\n",
      " 'burn_type_57' 'burn_qtop_57' 'burn_type_58' 'burn_qtop_58'\n",
      " 'burn_type_59' 'burn_qtop_59' 'burn_type_60' 'burn_qtop_60'\n",
      " 'burn_type_61' 'burn_qtop_61' 'burn_type_62' 'burn_qtop_62'\n",
      " 'burn_type_63' 'burn_qtop_63' 'burn_type_64' 'burn_qtop_64'\n",
      " 'burn_type_65' 'burn_qtop_65' 'burn_type_66' 'burn_qtop_66'\n",
      " 'burn_type_67' 'burn_qtop_67' 'burn_type_68' 'burn_qtop_68'\n",
      " 'burn_type_69' 'burn_qtop_69' 'burn_type_70' 'burn_qtop_70'\n",
      " 'burn_type_71' 'burn_qtop_71' 'burn_type_72' 'burn_qtop_72'\n",
      " 'burn_type_73' 'burn_qtop_73' 'burn_type_74' 'burn_qtop_74'\n",
      " 'burn_type_75' 'burn_qtop_75' 'burn_type_76' 'burn_qtop_76'\n",
      " 'burn_type_77' 'burn_qtop_77' 'burn_type_78' 'burn_qtop_78'\n",
      " 'burn_type_79' 'burn_qtop_79' 'burn_type_80' 'burn_qtop_80'\n",
      " 'v_div_csound_surf' 'num_retries' 'num_backups']\n"
     ]
    }
   ],
   "source": [
    "header1 = genfromtxt(fname, max_rows=1, dtype='int')\n",
    "header2 = genfromtxt(fname, max_rows=1, skip_header=2 ,dtype='str')\n",
    "header3 = genfromtxt(fname, max_rows=1, skip_header=4, dtype='int')\n",
    "header4 = genfromtxt(fname, max_rows=1, skip_header=5, dtype='str')\n",
    "\n",
    "print(header1, \"\\n\\n\", header2, \"\\n\\n\", header3, \"\\n\\n\", header4)"
   ]
  },
  {
   "cell_type": "code",
   "execution_count": 14,
   "metadata": {},
   "outputs": [
    {
     "name": "stdout",
     "output_type": "stream",
     "text": [
      "Done. [1, 38]\n"
     ]
    }
   ],
   "source": [
    "names =['star_age', 'log_L']\n",
    "num=[]\n",
    "for n in names: \n",
    "    try:\n",
    "        num.append(where(header4==n)[0][0])\n",
    "        \n",
    "    except ValueError:\n",
    "        exit(\"The given name %s did not match any entry in header4. Valid values are %s\" %(n, header4))\n",
    "        \n",
    "print(\"Done.\", num)"
   ]
  },
  {
   "cell_type": "code",
   "execution_count": 21,
   "metadata": {},
   "outputs": [
    {
     "name": "stdout",
     "output_type": "stream",
     "text": [
      "[2.25025600e-03 2.71030719e-03 3.26236863e-03 ... 1.32876278e+10\n",
      " 1.36462026e+10 1.40155027e+10]\n"
     ]
    }
   ],
   "source": [
    "data = genfromtxt(fname, skip_header=6, usecols=num)\n",
    "\n",
    "print(data[:,0])\n",
    "\n",
    "data[:,0]=data[:,0]/1.e9\n",
    "form = \"  %+1.6f  %+1.6f\"\n",
    "hdr  = \" Star Age (yr)    Log L  \"\n",
    "savetxt(outname, data, fmt=form, delimiter='  ', header=hdr, comments='')"
   ]
  },
  {
   "cell_type": "code",
   "execution_count": null,
   "metadata": {},
   "outputs": [],
   "source": []
  }
 ],
 "metadata": {
  "kernelspec": {
   "display_name": "Python 3",
   "language": "python",
   "name": "python3"
  },
  "language_info": {
   "codemirror_mode": {
    "name": "ipython",
    "version": 3
   },
   "file_extension": ".py",
   "mimetype": "text/x-python",
   "name": "python",
   "nbconvert_exporter": "python",
   "pygments_lexer": "ipython3",
   "version": "3.7.3"
  }
 },
 "nbformat": 4,
 "nbformat_minor": 2
}
