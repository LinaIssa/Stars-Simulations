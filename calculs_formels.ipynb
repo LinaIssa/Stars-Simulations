{
 "cells": [
  {
   "cell_type": "code",
   "execution_count": 2,
   "metadata": {},
   "outputs": [],
   "source": [
    "from sympy import init_printing, symbols, diff, exp, ln, sqrt\n",
    "import sympy as sp"
   ]
  },
  {
   "cell_type": "code",
   "execution_count": 3,
   "metadata": {},
   "outputs": [
    {
     "data": {
      "image/png": "[encoded data removed]",
      "text/latex": [
       "$$\\frac{c_{2} \\left(\\frac{c_{1}}{x}\\right)^{c_{2}} \\left(c_{3} \\log{\\left (1 + \\frac{x}{c_{4}} \\right )} + y + 2 \\sqrt{a x y^{1.5} \\left(b x y^{1.5} + 1\\right)^{0.333333333333333}}\\right) e^{- \\left(\\frac{c_{1}}{x}\\right)^{c_{2}}}}{x} + \\left(\\frac{c_{3}}{c_{4} \\left(1 + \\frac{x}{c_{4}}\\right)} + \\frac{2 \\sqrt{a x y^{1.5} \\left(b x y^{1.5} + 1\\right)^{0.333333333333333}} \\left(\\frac{0.166666666666667 a b x y^{3.0}}{\\left(b x y^{1.5} + 1\\right)^{0.666666666666667}} + \\frac{a y^{1.5} \\left(b x y^{1.5} + 1\\right)^{0.333333333333333}}{2}\\right)}{a x y^{1.5} \\left(b x y^{1.5} + 1\\right)^{0.333333333333333}}\\right) e^{- \\left(\\frac{c_{1}}{x}\\right)^{c_{2}}}$$"
      ],
      "text/plain": [
       "                                                                              \n",
       "          ⎛                           ________________________________________\n",
       "       c₂ ⎜                          ╱                        0.33333333333333\n",
       "   ⎛c₁⎞   ⎜      ⎛    x ⎞           ╱       1.5 ⎛     1.5    ⎞                \n",
       "c₂⋅⎜──⎟  ⋅⎜c₃⋅log⎜1 + ──⎟ + y + 2⋅╲╱   a⋅x⋅y   ⋅⎝b⋅x⋅y    + 1⎠                \n",
       "   ⎝x ⎠   ⎝      ⎝    c₄⎠                                                     \n",
       "──────────────────────────────────────────────────────────────────────────────\n",
       "                                            x                                 \n",
       "                                                                              \n",
       "                                                                              \n",
       "\n",
       "          c₂                                                                  \n",
       "__⎞   ⎛c₁⎞     ⎛                          ____________________________________\n",
       "3 ⎟  -⎜──⎟     ⎜                         ╱                        0.3333333333\n",
       "  ⎟   ⎝x ⎠     ⎜                 -1.5   ╱       1.5 ⎛     1.5    ⎞            \n",
       "  ⎟⋅ℯ          ⎜              2⋅y    ⋅╲╱   a⋅x⋅y   ⋅⎝b⋅x⋅y    + 1⎠            \n",
       "  ⎠            ⎜     c₃                                                       \n",
       "──────────── + ⎜─────────── + ────────────────────────────────────────────────\n",
       "               ⎜   ⎛    x ⎞                                                   \n",
       "               ⎜c₄⋅⎜1 + ──⎟                                                   \n",
       "               ⎝   ⎝    c₄⎠                                                   \n",
       "\n",
       "                                                                              \n",
       "______                                  ⎛                                     \n",
       "33333                -0.333333333333333 ⎜                                     \n",
       "       ⎛     1.5    ⎞                   ⎜                         3.0 ⎛     1.\n",
       "      ⋅⎝b⋅x⋅y    + 1⎠                  ⋅⎜0.166666666666667⋅a⋅b⋅x⋅y   ⋅⎝b⋅x⋅y  \n",
       "                                        ⎝                                     \n",
       "──────────────────────────────────────────────────────────────────────────────\n",
       "                                              a⋅x                             \n",
       "                                                                              \n",
       "                                                                              \n",
       "\n",
       "                                                                            \n",
       "                                                0.333333333333333⎞⎞         \n",
       "      -0.666666666666667      1.5 ⎛     1.5    ⎞                 ⎟⎟       c₂\n",
       "5    ⎞                     a⋅y   ⋅⎝b⋅x⋅y    + 1⎠                 ⎟⎟   ⎛c₁⎞  \n",
       "  + 1⎠                   + ──────────────────────────────────────⎟⎟  -⎜──⎟  \n",
       "                                             2                   ⎠⎟   ⎝x ⎠  \n",
       "──────────────────────────────────────────────────────────────────⎟⋅ℯ       \n",
       "                                                                  ⎟         \n",
       "                                                                  ⎟         \n",
       "                                                                  ⎠         "
      ]
     },
     "execution_count": 3,
     "metadata": {},
     "output_type": "execute_result"
    }
   ],
   "source": [
    "init_printing()\n",
    "x,y = symbols('x y')\n",
    "a,b = symbols('a b')\n",
    "c1,c2,c3,c4 = symbols('c1 c2 c3 c4')\n",
    "#Ne,kT = symbols('Ne kT')\n",
    "psi = 2*sqrt(a*x*y**(3/2)*(1+b*x*y**(3/2))**(1/3)) \n",
    "f = exp(-(c1/x)**c2)*(y+psi+c3*ln(1+x/c4))\n",
    "diff(f,x)"
   ]
  },
  {
   "cell_type": "code",
   "execution_count": 5,
   "metadata": {},
   "outputs": [
    {
     "name": "stdout",
     "output_type": "stream",
     "text": [
      "c2*(c1/x)**c2*(c3*log(1 + x/c4) + y + 2*sqrt(a*x*y**1.5*(b*x*y**1.5 + 1)**0.333333333333333))*exp(-(c1/x)**c2)/x + (c3/(c4*(1 + x/c4)) + 2*y**(-1.5)*sqrt(a*x*y**1.5*(b*x*y**1.5 + 1)**0.333333333333333)*(b*x*y**1.5 + 1)**(-0.333333333333333)*(0.166666666666667*a*b*x*y**3.0*(b*x*y**1.5 + 1)**(-0.666666666666667) + a*y**1.5*(b*x*y**1.5 + 1)**0.333333333333333/2)/(a*x))*exp(-(c1/x)**c2)\n"
     ]
    }
   ],
   "source": [
    "g=diff(f,x)\n",
    "print(g)"
   ]
  },
  {
   "cell_type": "code",
   "execution_count": null,
   "metadata": {},
   "outputs": [],
   "source": []
  }
 ],
 "metadata": {
  "kernelspec": {
   "display_name": "Python 3",
   "language": "python",
   "name": "python3"
  },
  "language_info": {
   "codemirror_mode": {
    "name": "ipython",
    "version": 3
   },
   "file_extension": ".py",
   "mimetype": "text/x-python",
   "name": "python",
   "nbconvert_exporter": "python",
   "pygments_lexer": "ipython3",
   "version": "3.7.3"
  }
 },
 "nbformat": 4,
 "nbformat_minor": 2
}
